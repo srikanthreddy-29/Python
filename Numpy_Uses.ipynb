{
 "cells": [
  {
   "cell_type": "markdown",
   "metadata": {},
   "source": [
    "![numpy1](numpy1.png)"
   ]
  },
  {
   "cell_type": "markdown",
   "metadata": {},
   "source": [
    "1.Array Creation Functions"
   ]
  },
  {
   "cell_type": "code",
   "execution_count": 3,
   "metadata": {},
   "outputs": [],
   "source": [
    "import numpy as np"
   ]
  },
  {
   "cell_type": "code",
   "execution_count": 4,
   "metadata": {},
   "outputs": [
    {
     "name": "stdout",
     "output_type": "stream",
     "text": [
      "Array arr :['10' '20' '(30+40j)' 'python'] \n"
     ]
    }
   ],
   "source": [
    "arr = np.array([10,20,30+40j,\"python\"])\n",
    "print(f\"Array arr :{arr} \")"
   ]
  },
  {
   "cell_type": "code",
   "execution_count": 8,
   "metadata": {},
   "outputs": [
    {
     "name": "stdout",
     "output_type": "stream",
     "text": [
      "Array arr1 :[30 25 20 15 10  5] \n"
     ]
    }
   ],
   "source": [
    "arr1 = np.arange(30,0,-5)\n",
    "print(f\"Array arr1 :{arr1} \")"
   ]
  },
  {
   "cell_type": "code",
   "execution_count": 11,
   "metadata": {},
   "outputs": [
    {
     "name": "stdout",
     "output_type": "stream",
     "text": [
      "Array arr2 :[20.   21.25 22.5  23.75 25.  ] \n"
     ]
    }
   ],
   "source": [
    "arr2 = np.linspace(20,25,5)        #evenly spaced 5 values \n",
    "print(f\"Array arr2 :{arr2} \")"
   ]
  },
  {
   "cell_type": "code",
   "execution_count": 13,
   "metadata": {},
   "outputs": [
    {
     "name": "stdout",
     "output_type": "stream",
     "text": [
      "Array arr3 :[-20.         -15.83333333 -11.66666667  -7.5         -3.33333333\n",
      "   0.83333333   5.        ] \n"
     ]
    }
   ],
   "source": [
    "arr3 = np.linspace(-20,5,7)\n",
    "print(f\"Array arr3 :{arr3} \")"
   ]
  },
  {
   "cell_type": "code",
   "execution_count": 17,
   "metadata": {},
   "outputs": [
    {
     "name": "stdout",
     "output_type": "stream",
     "text": [
      "Identity matrix f : \n",
      " [[1. 0. 0. 0. 0. 0.]\n",
      " [0. 1. 0. 0. 0. 0.]\n",
      " [0. 0. 1. 0. 0. 0.]\n",
      " [0. 0. 0. 1. 0. 0.]\n",
      " [0. 0. 0. 0. 1. 0.]\n",
      " [0. 0. 0. 0. 0. 1.]]\n"
     ]
    }
   ],
   "source": [
    "arr4 = np.eye(6)\n",
    "print(f\"Identity matrix f : \\n {arr4}\")"
   ]
  },
  {
   "cell_type": "markdown",
   "metadata": {},
   "source": [
    "2. Array Manipulation Functions"
   ]
  },
  {
   "cell_type": "code",
   "execution_count": 23,
   "metadata": {},
   "outputs": [
    {
     "name": "stdout",
     "output_type": "stream",
     "text": [
      "Reshaped array :\n",
      " [['10' '20']\n",
      " ['50.2' 'True']\n",
      " ['hello' '(2+1j)']]\n"
     ]
    }
   ],
   "source": [
    "a = np.array([10,20,50.2,True,\"hello\",2+1j])\n",
    "reshaped = a.reshape(3,2)\n",
    "print(f\"Reshaped array :\\n {reshaped}\")"
   ]
  },
  {
   "cell_type": "code",
   "execution_count": 26,
   "metadata": {},
   "outputs": [
    {
     "name": "stdout",
     "output_type": "stream",
     "text": [
      "Fortran array : \n",
      " [['10' 'True']\n",
      " ['20' 'hello']\n",
      " ['50.2' '(2+1j)']]\n"
     ]
    }
   ],
   "source": [
    "reshaped_fortran = a.reshape(3,2,order=\"F\")\n",
    "print(f\"Fortran array : \\n {reshaped_fortran}\")"
   ]
  },
  {
   "cell_type": "code",
   "execution_count": null,
   "metadata": {},
   "outputs": [
    {
     "ename": "ValueError",
     "evalue": "setting an array element with a sequence. The requested array has an inhomogeneous shape after 1 dimensions. The detected shape was (3,) + inhomogeneous part.",
     "output_type": "error",
     "traceback": [
      "\u001b[1;31m---------------------------------------------------------------------------\u001b[0m",
      "\u001b[1;31mValueError\u001b[0m                                Traceback (most recent call last)",
      "Cell \u001b[1;32mIn[37], line 1\u001b[0m\n\u001b[1;32m----> 1\u001b[0m a1 \u001b[38;5;241m=\u001b[39m \u001b[43mnp\u001b[49m\u001b[38;5;241;43m.\u001b[39;49m\u001b[43marray\u001b[49m\u001b[43m(\u001b[49m\u001b[43m[\u001b[49m\u001b[43m[\u001b[49m\u001b[38;5;241;43m10\u001b[39;49m\u001b[43m,\u001b[49m\u001b[38;5;241;43m20.5\u001b[39;49m\u001b[43m,\u001b[49m\u001b[38;5;241;43m36\u001b[39;49m\u001b[43m]\u001b[49m\u001b[43m,\u001b[49m\u001b[43m[\u001b[49m\u001b[38;5;241;43m25\u001b[39;49m\u001b[43m,\u001b[49m\u001b[38;5;124;43m\"\u001b[39;49m\u001b[38;5;124;43mpython\u001b[39;49m\u001b[38;5;124;43m\"\u001b[39;49m\u001b[43m]\u001b[49m\u001b[43m,\u001b[49m\u001b[43m[\u001b[49m\u001b[38;5;241;43m2.5\u001b[39;49m\u001b[43m,\u001b[49m\u001b[38;5;241;43m3\u001b[39;49m\u001b[43m,\u001b[49m\u001b[38;5;241;43m-\u001b[39;49m\u001b[38;5;241;43m6.5\u001b[39;49m\u001b[43m]\u001b[49m\u001b[43m]\u001b[49m\u001b[43m)\u001b[49m\n\u001b[0;32m      2\u001b[0m flattened \u001b[38;5;241m=\u001b[39m np\u001b[38;5;241m.\u001b[39mravel(a1)\n\u001b[0;32m      3\u001b[0m \u001b[38;5;28mprint\u001b[39m(\u001b[38;5;124mf\u001b[39m\u001b[38;5;124m\"\u001b[39m\u001b[38;5;124mFlattened array : \u001b[39m\u001b[38;5;130;01m\\n\u001b[39;00m\u001b[38;5;124m \u001b[39m\u001b[38;5;132;01m{\u001b[39;00mflattened\u001b[38;5;132;01m}\u001b[39;00m\u001b[38;5;124m\"\u001b[39m)\n",
      "\u001b[1;31mValueError\u001b[0m: setting an array element with a sequence. The requested array has an inhomogeneous shape after 1 dimensions. The detected shape was (3,) + inhomogeneous part."
     ]
    }
   ],
   "source": [
    "a1 = np.array([[10,20.5,36],[25,\"python\"],[2.5,3,-6.5]])       #homogenity is missing \n",
    "flattened = np.ravel(a1)\n",
    "print(f\"Flattened array : \\n {flattened}\")"
   ]
  },
  {
   "cell_type": "code",
   "execution_count": 43,
   "metadata": {},
   "outputs": [
    {
     "name": "stdout",
     "output_type": "stream",
     "text": [
      "Flattened array : \n",
      " ['10' '20.5' '36' '25' 'python' 'True' '2.5' '3' '-6.5']\n"
     ]
    }
   ],
   "source": [
    "a2 = np.array([[10,20.5,36],[25,\"python\",True],[2.5,3,-6.5]])       \n",
    "flattened = np.ravel(a2)\n",
    "print(f\"Flattened array : \\n {flattened}\")"
   ]
  },
  {
   "cell_type": "code",
   "execution_count": 40,
   "metadata": {},
   "outputs": [
    {
     "data": {
      "text/plain": [
       "array([['10', '20.5', '36'],\n",
       "       ['25', 'python', 'True'],\n",
       "       ['2.5', '3', '-6.5']], dtype='<U32')"
      ]
     },
     "execution_count": 40,
     "metadata": {},
     "output_type": "execute_result"
    }
   ],
   "source": [
    "a2"
   ]
  },
  {
   "cell_type": "code",
   "execution_count": null,
   "metadata": {},
   "outputs": [
    {
     "name": "stdout",
     "output_type": "stream",
     "text": [
      "[['10' '25' '2.5']\n",
      " ['20.5' 'python' '3']\n",
      " ['36' 'True' '-6.5']]\n"
     ]
    }
   ],
   "source": [
    "transpose_arr = a2.transpose()          #rows converted into columns and columns into rows \n",
    "print(transpose_arr)"
   ]
  },
  {
   "cell_type": "code",
   "execution_count": 46,
   "metadata": {},
   "outputs": [
    {
     "name": "stdout",
     "output_type": "stream",
     "text": [
      "Stacked array : \n",
      " [[ 1.   2.5  3. ]\n",
      " [ 2.5  3.  -5.5]]\n"
     ]
    }
   ],
   "source": [
    "a3 = np.array([1,2.5,3])\n",
    "a4 = np.array([2.5,3,-5.5])\n",
    "stacked = np.vstack([a3,a4])\n",
    "print(f\"Stacked array : \\n {stacked}\")"
   ]
  },
  {
   "cell_type": "markdown",
   "metadata": {},
   "source": [
    "3. Mathematical Functions"
   ]
  },
  {
   "cell_type": "code",
   "execution_count": 54,
   "metadata": {},
   "outputs": [
    {
     "name": "stdout",
     "output_type": "stream",
     "text": [
      "[ 5.  20.5 15.  25. ]\n"
     ]
    }
   ],
   "source": [
    "b = np.array([10,25.5,20,30])\n",
    "add = np.add(b,-5)\n",
    "print(add)"
   ]
  },
  {
   "cell_type": "code",
   "execution_count": 56,
   "metadata": {},
   "outputs": [
    {
     "name": "stdout",
     "output_type": "stream",
     "text": [
      "[100.   650.25 400.   900.  ]\n"
     ]
    }
   ],
   "source": [
    "power_value = np.power(b,2)\n",
    "print(power_value)"
   ]
  },
  {
   "cell_type": "code",
   "execution_count": 57,
   "metadata": {},
   "outputs": [
    {
     "name": "stdout",
     "output_type": "stream",
     "text": [
      "[3.16227766 5.04975247 4.47213595 5.47722558]\n"
     ]
    }
   ],
   "source": [
    "squr_root = np.sqrt(b)\n",
    "print(squr_root)"
   ]
  },
  {
   "cell_type": "code",
   "execution_count": 63,
   "metadata": {},
   "outputs": [
    {
     "ename": "ValueError",
     "evalue": "shapes (5,) and (4,) not aligned: 5 (dim 0) != 4 (dim 0)",
     "output_type": "error",
     "traceback": [
      "\u001b[1;31m---------------------------------------------------------------------------\u001b[0m",
      "\u001b[1;31mValueError\u001b[0m                                Traceback (most recent call last)",
      "Cell \u001b[1;32mIn[63], line 3\u001b[0m\n\u001b[0;32m      1\u001b[0m dot1 \u001b[38;5;241m=\u001b[39m np\u001b[38;5;241m.\u001b[39marray([\u001b[38;5;241m1\u001b[39m,\u001b[38;5;241m2\u001b[39m,\u001b[38;5;241m3\u001b[39m,\u001b[38;5;241m4\u001b[39m,\u001b[38;5;241m5\u001b[39m])\n\u001b[0;32m      2\u001b[0m dot2 \u001b[38;5;241m=\u001b[39m np\u001b[38;5;241m.\u001b[39marray([\u001b[38;5;241m5\u001b[39m,\u001b[38;5;241m6\u001b[39m,\u001b[38;5;241m7\u001b[39m,\u001b[38;5;241m8\u001b[39m])\n\u001b[1;32m----> 3\u001b[0m dot_product \u001b[38;5;241m=\u001b[39m \u001b[43mnp\u001b[49m\u001b[38;5;241;43m.\u001b[39;49m\u001b[43mdot\u001b[49m\u001b[43m(\u001b[49m\u001b[43mdot1\u001b[49m\u001b[43m,\u001b[49m\u001b[43mdot2\u001b[49m\u001b[43m)\u001b[49m\n\u001b[0;32m      4\u001b[0m \u001b[38;5;28mprint\u001b[39m(\u001b[38;5;124mf\u001b[39m\u001b[38;5;124m\"\u001b[39m\u001b[38;5;124mDot product of dot1 and dot2 :\u001b[39m\u001b[38;5;130;01m\\n\u001b[39;00m\u001b[38;5;124m \u001b[39m\u001b[38;5;132;01m{\u001b[39;00mdot_product\u001b[38;5;132;01m}\u001b[39;00m\u001b[38;5;124m\"\u001b[39m)\n",
      "\u001b[1;31mValueError\u001b[0m: shapes (5,) and (4,) not aligned: 5 (dim 0) != 4 (dim 0)"
     ]
    }
   ],
   "source": [
    "dot1 = np.array([1,2,3,4,5])\n",
    "dot2 = np.array([5,6,7,8])\n",
    "dot_product = np.dot(dot1,dot2)\n",
    "print(f\"Dot product of dot1 and dot2 :\\n {dot_product}\")"
   ]
  },
  {
   "cell_type": "code",
   "execution_count": 64,
   "metadata": {},
   "outputs": [
    {
     "name": "stdout",
     "output_type": "stream",
     "text": [
      "Dot product of dot1 and dot2 :\n",
      " 70\n"
     ]
    }
   ],
   "source": [
    "dot1 = np.array([1,2,3,4])\n",
    "dot2 = np.array([5,6,7,8])\n",
    "dot_product = np.dot(dot1,dot2)\n",
    "print(f\"Dot product of dot1 and dot2 :\\n {dot_product}\")"
   ]
  },
  {
   "cell_type": "markdown",
   "metadata": {},
   "source": [
    "4. Statistical Functions"
   ]
  },
  {
   "cell_type": "code",
   "execution_count": 65,
   "metadata": {},
   "outputs": [
    {
     "name": "stdout",
     "output_type": "stream",
     "text": [
      "mean of s : 2.5\n"
     ]
    }
   ],
   "source": [
    "s = np.array([1,2,3,4])\n",
    "mean_value = np.mean(s)\n",
    "print(f\"mean of s : {mean_value}\")"
   ]
  },
  {
   "cell_type": "code",
   "execution_count": 66,
   "metadata": {},
   "outputs": [
    {
     "name": "stdout",
     "output_type": "stream",
     "text": [
      "1.118033988749895\n"
     ]
    }
   ],
   "source": [
    "stad_dev = np.std(s)\n",
    "print(stad_dev)"
   ]
  },
  {
   "cell_type": "code",
   "execution_count": 67,
   "metadata": {},
   "outputs": [
    {
     "name": "stdout",
     "output_type": "stream",
     "text": [
      "minimum value : 1\n"
     ]
    }
   ],
   "source": [
    "mini_value = np.min(s)\n",
    "print(f\"minimum value : {mini_value}\")"
   ]
  },
  {
   "cell_type": "code",
   "execution_count": 69,
   "metadata": {},
   "outputs": [
    {
     "name": "stdout",
     "output_type": "stream",
     "text": [
      "maximum value : 4\n"
     ]
    }
   ],
   "source": [
    "max_value = np.max(s)\n",
    "print(f\"maximum value : {max_value}\")"
   ]
  },
  {
   "cell_type": "markdown",
   "metadata": {},
   "source": [
    "5. Liner Algebra Functions"
   ]
  },
  {
   "cell_type": "code",
   "execution_count": 70,
   "metadata": {},
   "outputs": [
    {
     "name": "stdout",
     "output_type": "stream",
     "text": [
      "Determinat of matrix : -2.0000000000000004\n"
     ]
    }
   ],
   "source": [
    "matrix = np.array([[1,2],[3,4]])\n",
    "determinat = np.linalg.det(matrix)\n",
    "print(f\"Determinat of matrix : {determinat}\")"
   ]
  },
  {
   "cell_type": "code",
   "execution_count": 71,
   "metadata": {},
   "outputs": [
    {
     "name": "stdout",
     "output_type": "stream",
     "text": [
      "[[-2.   1. ]\n",
      " [ 1.5 -0.5]]\n"
     ]
    }
   ],
   "source": [
    "inverse_matrix = np.linalg.inv(matrix)\n",
    "print(inverse_matrix)"
   ]
  },
  {
   "cell_type": "markdown",
   "metadata": {},
   "source": [
    "6. Boolean & Logical Functions"
   ]
  },
  {
   "cell_type": "code",
   "execution_count": 72,
   "metadata": {},
   "outputs": [
    {
     "name": "stdout",
     "output_type": "stream",
     "text": [
      "All elements are True : False\n"
     ]
    }
   ],
   "source": [
    "logical_test = np.array([True,False,True])\n",
    "all_true = np.all(logical_test)\n",
    "print(\"All elements are True :\",all_true)"
   ]
  },
  {
   "cell_type": "code",
   "execution_count": 73,
   "metadata": {},
   "outputs": [
    {
     "name": "stdout",
     "output_type": "stream",
     "text": [
      "Any elements True : True\n"
     ]
    }
   ],
   "source": [
    "any_true = np.any(logical_test)\n",
    "print(\"Any elements True :\", any_true)"
   ]
  },
  {
   "cell_type": "markdown",
   "metadata": {},
   "source": [
    "7. Set Operations "
   ]
  },
  {
   "cell_type": "code",
   "execution_count": 74,
   "metadata": {},
   "outputs": [
    {
     "data": {
      "text/plain": [
       "array([3, 4])"
      ]
     },
     "execution_count": 74,
     "metadata": {},
     "output_type": "execute_result"
    }
   ],
   "source": [
    "set_a = np.array([1,2,3,4])\n",
    "set_b = np.array([3,4,5,6])\n",
    "np.intersect1d(set_a,set_b)"
   ]
  },
  {
   "cell_type": "code",
   "execution_count": null,
   "metadata": {},
   "outputs": [],
   "source": [
    "np.union1d(set_a,set_b)"
   ]
  },
  {
   "cell_type": "markdown",
   "metadata": {},
   "source": [
    "8.Array Attribute Functions"
   ]
  },
  {
   "cell_type": "code",
   "execution_count": 76,
   "metadata": {},
   "outputs": [
    {
     "name": "stdout",
     "output_type": "stream",
     "text": [
      "(4,)\n",
      "4\n",
      "1\n",
      "int64\n"
     ]
    }
   ],
   "source": [
    "arr5 = np.array([1,2,3,4])\n",
    "print(arr5.shape)\n",
    "print(arr5.size)\n",
    "print(arr5.ndim)\n",
    "print(arr5.dtype)"
   ]
  },
  {
   "cell_type": "markdown",
   "metadata": {},
   "source": [
    "9. Other Functions"
   ]
  },
  {
   "cell_type": "code",
   "execution_count": 77,
   "metadata": {},
   "outputs": [
    {
     "data": {
      "text/plain": [
       "array([1, 2, 3, 4])"
      ]
     },
     "execution_count": 77,
     "metadata": {},
     "output_type": "execute_result"
    }
   ],
   "source": [
    "arr5"
   ]
  },
  {
   "cell_type": "code",
   "execution_count": 78,
   "metadata": {},
   "outputs": [
    {
     "name": "stdout",
     "output_type": "stream",
     "text": [
      "copied array : [1 2 3 4]\n"
     ]
    }
   ],
   "source": [
    "copied_array = np.copy(arr5)\n",
    "print(\"copied array :\",copied_array)"
   ]
  },
  {
   "cell_type": "code",
   "execution_count": 79,
   "metadata": {},
   "outputs": [
    {
     "name": "stdout",
     "output_type": "stream",
     "text": [
      "Size in bytes: 1536\n"
     ]
    }
   ],
   "source": [
    "array_size_in_bytes = a.nbytes\n",
    "print(\"Size in bytes:\", array_size_in_bytes)"
   ]
  },
  {
   "cell_type": "code",
   "execution_count": 80,
   "metadata": {},
   "outputs": [
    {
     "name": "stdout",
     "output_type": "stream",
     "text": [
      "Do arr5 and copied_array share memory? False\n"
     ]
    }
   ],
   "source": [
    "shared = np.shares_memory(arr5,copied_array)\n",
    "print(\"Do arr5 and copied_array share memory?\",shared)"
   ]
  }
 ],
 "metadata": {
  "kernelspec": {
   "display_name": "Python 3",
   "language": "python",
   "name": "python3"
  },
  "language_info": {
   "codemirror_mode": {
    "name": "ipython",
    "version": 3
   },
   "file_extension": ".py",
   "mimetype": "text/x-python",
   "name": "python",
   "nbconvert_exporter": "python",
   "pygments_lexer": "ipython3",
   "version": "3.12.4"
  }
 },
 "nbformat": 4,
 "nbformat_minor": 2
}
