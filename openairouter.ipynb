{
  "nbformat": 4,
  "nbformat_minor": 0,
  "metadata": {
    "colab": {
      "provenance": [],
      "gpuType": "T4",
      "mount_file_id": "1M_6-ZSN4a5FbeY75_LjHrXu9-FYoJ2Sq",
      "authorship_tag": "ABX9TyN8XQh0qQWkr4MtelxnQ+eR",
      "include_colab_link": true
    },
    "kernelspec": {
      "name": "python3",
      "display_name": "Python 3"
    },
    "language_info": {
      "name": "python"
    },
    "accelerator": "GPU"
  },
  "cells": [
    {
      "cell_type": "markdown",
      "metadata": {
        "id": "view-in-github",
        "colab_type": "text"
      },
      "source": [
        "<a href=\"https://colab.research.google.com/github/srikanthreddy-29/Python/blob/main/openairouter.ipynb\" target=\"_parent\"><img src=\"https://colab.research.google.com/assets/colab-badge.svg\" alt=\"Open In Colab\"/></a>"
      ]
    },
    {
      "cell_type": "code",
      "execution_count": null,
      "metadata": {
        "colab": {
          "base_uri": "https://localhost:8080/"
        },
        "id": "dEEa__Vxp0r_",
        "outputId": "25dfb219-d837-4367-cc69-4267ad29246c"
      },
      "outputs": [
        {
          "output_type": "stream",
          "name": "stdout",
          "text": [
            "Fri Feb 14 08:54:03 2025       \n",
            "+-----------------------------------------------------------------------------------------+\n",
            "| NVIDIA-SMI 550.54.15              Driver Version: 550.54.15      CUDA Version: 12.4     |\n",
            "|-----------------------------------------+------------------------+----------------------+\n",
            "| GPU  Name                 Persistence-M | Bus-Id          Disp.A | Volatile Uncorr. ECC |\n",
            "| Fan  Temp   Perf          Pwr:Usage/Cap |           Memory-Usage | GPU-Util  Compute M. |\n",
            "|                                         |                        |               MIG M. |\n",
            "|=========================================+========================+======================|\n",
            "|   0  Tesla T4                       Off |   00000000:00:04.0 Off |                    0 |\n",
            "| N/A   53C    P8             10W /   70W |       0MiB /  15360MiB |      0%      Default |\n",
            "|                                         |                        |                  N/A |\n",
            "+-----------------------------------------+------------------------+----------------------+\n",
            "                                                                                         \n",
            "+-----------------------------------------------------------------------------------------+\n",
            "| Processes:                                                                              |\n",
            "|  GPU   GI   CI        PID   Type   Process name                              GPU Memory |\n",
            "|        ID   ID                                                               Usage      |\n",
            "|=========================================================================================|\n",
            "|  No running processes found                                                             |\n",
            "+-----------------------------------------------------------------------------------------+\n"
          ]
        }
      ],
      "source": [
        "!nvidia-smi"
      ]
    },
    {
      "cell_type": "code",
      "source": [
        "from openai import OpenAI\n",
        "\n",
        "client = OpenAI(\n",
        "  base_url=\"https://openrouter.ai/api/v1\",\n",
        "  api_key=\"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\",\n",
        ")\n",
        "\n",
        "completion = client.chat.completions.create(\n",
        "  extra_headers={\n",
        "    \"HTTP-Referer\": \"<YOUR_SITE_URL>\", # Optional. Site URL for rankings on openrouter.ai.\n",
        "    \"X-Title\": \"<YOUR_SITE_NAME>\", # Optional. Site title for rankings on openrouter.ai.\n",
        "  },\n",
        "  extra_body={},\n",
        "  model=\"deepseek/deepseek-r1:free\",\n",
        "  messages=[\n",
        "    {\n",
        "      \"role\": \"user\",\n",
        "      \"content\": \"What is machine learning?\"\n",
        "    }\n",
        "  ]\n",
        ")\n",
        "print(completion.choices[0].message.content)"
      ],
      "metadata": {
        "colab": {
          "base_uri": "https://localhost:8080/"
        },
        "id": "zzwDuPmGrHbz",
        "outputId": "339a6678-a389-4fc3-e143-5d98ef60aa13"
      },
      "execution_count": null,
      "outputs": [
        {
          "output_type": "stream",
          "name": "stdout",
          "text": [
            "Machine learning (ML) is a branch of artificial intelligence (AI) that focuses on enabling systems to autonomously learn and improve from experience without explicit programming. Here's a structured breakdown of its key components:\n",
            "\n",
            "### **Core Concept:**\n",
            "- **Data-Driven Learning**: Instead of following static instructions, ML algorithms identify patterns in data to make decisions or predictions. This involves training models on datasets to recognize underlying structures or relationships.\n",
            "\n",
            "### **Types of Machine Learning:**\n",
            "1. **Supervised Learning**:\n",
            "   - **Definition**: Uses labeled data (input-output pairs) to train models.\n",
            "   - **Goal**: Predict outcomes for new, unseen data (e.g., classifying emails as spam or not spam).\n",
            "   - **Examples**: Linear regression, decision trees, support vector machines.\n",
            "\n",
            "2. **Unsupervised Learning**:\n",
            "   - **Definition**: Analyzes unlabeled data to find hidden patterns or groupings.\n",
            "   - **Goal**: Discover intrinsic structures (e.g., customer segmentation, topic modeling).\n",
            "   - **Examples**: Clustering (k-means), dimensionality reduction (PCA).\n",
            "\n",
            "3. **Reinforcement Learning**:\n",
            "   - **Definition**: Learns through trial and error by interacting with an environment.\n",
            "   - **Goal**: Maximize cumulative rewards (e.g., game-playing AI, robotics).\n",
            "   - **Examples**: Q-learning, Deep Q-Networks (DQN).\n",
            "\n",
            "### **How It Works:**\n",
            "- **Model Training**: Algorithms adjust internal parameters iteratively to minimize prediction errors (e.g., using gradient descent in neural networks).\n",
            "- **Optimization**: The process of refining models to improve accuracy and generalization, avoiding overfitting (e.g., via regularization or cross-validation).\n",
            "\n",
            "### **Key Applications:**\n",
            "- **Recommendation Systems**: Personalized content (Netflix, Spotify).\n",
            "- **Computer Vision**: Image recognition (self-driving cars, facial recognition).\n",
            "- **Natural Language Processing (NLP)**: Chatbots, translation (Google Translate).\n",
            "- **Healthcare**: Disease prediction, medical imaging analysis.\n",
            "- **Finance**: Fraud detection, algorithmic trading.\n",
            "\n",
            "### **Important Considerations:**\n",
            "- **Data Quality**: High-quality, diverse datasets are critical to avoid biases and ensure robust models.\n",
            "- **Ethics**: Challenges include privacy concerns, algorithmic fairness, and transparency (\"black box\" models).\n",
            "\n",
            "### **Tools & Techniques:**\n",
            "- **Algorithms**: Neural networks, random forests, gradient boosting.\n",
            "- **Frameworks**: TensorFlow, PyTorch, scikit-learn.\n",
            "\n",
            "### **Relationship to AI:**\n",
            "- ML is a subset of AI focused on data-driven learning, while AI encompasses broader goals like reasoning, perception, and general intelligence.\n",
            "\n",
            "In essence, machine learning transforms raw data into actionable insights, driving innovations across industries by enabling systems to adapt and evolve through experience.\n"
          ]
        }
      ]
    }
  ]
}